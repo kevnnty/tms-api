{
 "cells": [
  {
   "cell_type": "code",
   "execution_count": 3,
   "id": "c40642e4",
   "metadata": {},
   "outputs": [],
   "source": [
    "import requests\n",
    "import pandas as pd\n",
    "import numpy as np\n",
    "import matplotlib.pyplot as plt\n",
    "import seaborn as sns\n",
    "from sklearn.preprocessing import LabelEncoder"
   ]
  },
  {
   "cell_type": "code",
   "execution_count": 4,
   "id": "42986c04",
   "metadata": {},
   "outputs": [],
   "source": [
    "api_url = \"http://localhost:5000\"\n",
    "\n",
    "\n",
    "def fetch_data(endpoint):\n",
    "    response = requests.get(f\"{api_url}/{endpoint}\")\n",
    "    if response.status_code == 200:\n",
    "        return response.json()\n",
    "    else:\n",
    "        raise Exception(f\"Failed to fetch data from {endpoint}\")\n",
    "\n",
    "# Fetch data\n",
    "vehicles_data = fetch_data('vehicles')\n",
    "drivers_data = fetch_data('drivers')\n",
    "trips_data = fetch_data('trips')\n",
    "routes_data = fetch_data('routes')"
   ]
  },
  {
   "cell_type": "code",
   "execution_count": 5,
   "id": "d5a7cfc0",
   "metadata": {},
   "outputs": [],
   "source": [
    "# Convert raw data into pandas DataFrame\n",
    "vehicles_df = pd.DataFrame(vehicles_data)\n",
    "drivers_df = pd.DataFrame(drivers_data)\n",
    "trips_df = pd.DataFrame(trips_data)\n",
    "routes_df = pd.DataFrame(routes_data)"
   ]
  },
  {
   "cell_type": "code",
   "execution_count": 6,
   "id": "80234bd2",
   "metadata": {},
   "outputs": [],
   "source": [
    "vehicles_df.to_csv('csv_datasets/vehicles.csv', index=False)\n",
    "drivers_df.to_csv('csv_datasets/drivers.csv', index=False)\n",
    "trips_df.to_csv('csv_datasets/trips.csv', index=False)\n",
    "routes_df.to_csv('csv_datasets/routes.csv', index=False)"
   ]
  }
 ],
 "metadata": {
  "kernelspec": {
   "display_name": "venv",
   "language": "python",
   "name": "python3"
  },
  "language_info": {
   "codemirror_mode": {
    "name": "ipython",
    "version": 3
   },
   "file_extension": ".py",
   "mimetype": "text/x-python",
   "name": "python",
   "nbconvert_exporter": "python",
   "pygments_lexer": "ipython3",
   "version": "3.13.0"
  }
 },
 "nbformat": 4,
 "nbformat_minor": 5
}
