{
 "cells": [
  {
   "cell_type": "markdown",
   "metadata": {},
   "source": [
    "# TMS Maintenance Prediction Model\n",
    "\n",
    "This notebook focuses on building a model to predict maintenance needs before breakdowns occur."
   ]
  },
  {
   "cell_type": "code",
   "execution_count": null,
   "metadata": {},
   "source": [
    "import pandas as pd\n",
    "import numpy as np\n",
    "import matplotlib.pyplot as plt\n",
    "import seaborn as sns\n",
    "from sklearn.model_selection import train_test_split, GridSearchCV, cross_val_score\n",
    "from sklearn.preprocessing import StandardScaler\n",
    "from sklearn.ensemble import RandomForestRegressor, GradientBoostingRegressor\n",
    "from sklearn.linear_model import LinearRegression, Ridge, Lasso\n",
    "from sklearn.metrics import mean_squared_error, mean_absolute_error, r2_score\n",
    "import xgboost as xgb\n",
    "import joblib\n",
    "import warnings\n",
    "warnings.filterwarnings('ignore')\n",
    "\n",
    "# Set display options\n",
    "pd.set_option('display.max_columns', None)\n",
    "sns.set(style=\"whitegrid\")"
   ]
  },
  {
   "cell_type": "markdown",
   "metadata": {},
   "source": [
    "## 1. Load and Prepare Data\n",
    "\n",
    "For maintenance prediction, we'll focus on vehicle data and trip history."
   ]
  },
  {
   "cell_type": "code",
   "execution_count": null,
   "metadata": {},
   "source": [
    "# Load data from CSV files\n",
    "vehicles_df = pd.read_csv('data/vehicles.csv')\n",
    "trips_df = pd.read_csv('data/trips.csv')\n",
    "\n",
    "# Display basic info\n",
    "print(f\"Vehicles data shape: {vehicles_df.shape}\")\n",
    "print(f\"Trips data shape: {trips_df.shape}\")"
   ]
  },
  {
   "cell_type": "code",
   "execution_count": null,
   "metadata": {},
   "source": [
    "# Aggregate trip data by vehicle\n",
    "trip_aggregates = trips_df.groupby('vehicle_id').agg({\n",
    "    'id': 'count',  # Number of trips\n",
    "    'actual_duration': 'sum',  # Total trip duration\n",
    "    'fuel_consumed': 'sum',  # Total fuel consumed\n",
    "    'actual_distance': 'sum',  # Total distance traveled\n",
    "    'average_speed': 'mean',  # Average speed across trips\n",
    "    'max_speed': 'max',  # Maximum speed ever recorded\n",
    "    'idle_time': 'sum',  # Total idle time\n",
    "    'maintenance_issues_reported': lambda x: x.str.len().sum(),  # Count of maintenance issues\n",
    "    'incidents_reported': lambda x: x.str.len().sum()  # Count of incidents\n",
    "}).reset_index()\n",
    "\n",
    "# Rename columns for clarity\n",
    "trip_aggregates.columns = ['vehicle_id', 'trip_count', 'total_duration', 'total_fuel', \n",
    "                          'total_distance', 'avg_speed', 'max_speed_ever', \n",
    "                          'total_idle_time', 'maintenance_issues_count', 'incidents_count']\n",
    "\n",
    "# Merge with vehicle data\n",
    "merged_df = pd.merge(vehicles_df, trip_aggregates, left_on='id', right_on='vehicle_id', how='left')\n",
    "\n",
    "# Fill NaN values (vehicles with no trips)\n",
    "merged_df.fillna({\n",
    "    'trip_count': 0,\n",
    "    'total_duration': 0,\n",
    "    'total_fuel': 0,\n",
    "    'total_distance': 0,\n",
    "    'avg_speed': 0,\n",
    "    'max_speed_ever': 0,\n",
    "    'total_idle_time': 0,\n",
    "    'maintenance_issues_count': 0,\n",
    "    'incidents_count': 0\n",
    "}, inplace=True)\n",
    "\n",
    "# Display the merged data\n",
    "print(f\"Merged data shape: {merged_df.shape}\")\n",
    "merged_df.head()"
   ]
  },
  {
   "cell_type": "markdown",
   "metadata": {},
   "source": [
    "## 2. Feature Engineering\n",
    "\n",
    "Let's create features that might be useful for predicting maintenance needs."
   ]
  },
  {
   "cell_type": "code",
   "execution_count": null,
   "metadata": {},
   "source": [
    "# Create new features\n",
    "\n",
    "# Vehicle age\n",
    "current_year = 2025  # Update this to the current year\n",
    "merged_df['vehicle_age'] = current_year - merged_df['manufacture_year']\n",
    "\n",
    "# Idle time percentage\n",
    "merged_df['idle_percentage'] = (merged_df['total_idle_time'] / merged_df['total_duration'] * 100).replace([np.inf, -np.inf], 0)\n",
    "\n",
    "# Average trip distance\n",
    "merged_df['avg_trip_distance'] = (merged_df['total_distance'] / merged_df['trip_count']).replace([np.inf, -np.inf], 0)\n",
    "\n",
    "# Average trip duration\n",
    "merged_df['avg_trip_duration'] = (merged_df['total_duration'] / merged_df['trip_count']).replace([np.inf, -np.inf], 0)\n",
    "\n",
    "# Maintenance issues per distance\n",
    "merged_df['issues_per_distance'] = (merged_df['maintenance_issues_count'] / merged_df['total_distance'] * 1000).replace([np.inf, -np.inf], 0)\n",
    "\n",
    "# Fuel efficiency\n",
    "merged_df['calculated_fuel_efficiency'] = (merged_df['total_distance'] / merged_df['total_fuel']).replace([np.inf, -np.inf], 0)\n",
    "\n",
    "# Maintenance score deviation from average\n",
    "merged_df['maintenance_score_deviation'] = merged_df['maintenance_score'] - merged_df['maintenance_score'].mean()\n",
    "\n",
    "# Convert last_maintenance_date to days since maintenance\n",
    "# Assuming last_maintenance_date is in format 'YYYY-MM-DD'\n",
    "try:\n",
    "    merged_df['days_since_maintenance'] = (pd.to_datetime('today') - pd.to_datetime(merged_df['last_maintenance_date'])).dt.days\n",
    "except:\n",
    "    # If date conversion fails, create a dummy variable\n",
    "    merged_df['days_since_maintenance'] = 90  # Default to 90 days\n",
    "\n",
    "# Display the new features\n",
    "merged_df[['vehicle_age', 'idle_percentage', 'avg_trip_distance', 'avg_trip_duration', \n",
    "          'issues_per_distance', 'calculated_fuel_efficiency', 'maintenance_score_deviation', \n",
    "          'days_since_maintenance']].describe()"
   ]
  },
  {
   "cell_type": "markdown",
   "metadata": {},
   "source": [
    "## 3. Define Target Variable\n",
    "\n",
    "For maintenance prediction, we'll use the maintenance_score as our target variable. A lower score indicates a need for maintenance."
   ]
  },
  {
   "cell_type": "code",
   "execution_count": null,
   "metadata": {},
   "source": [
    "# Define target variable\n",
    "# We'll predict the maintenance_score, which indicates the health of the vehicle\n",
    "# A lower score means maintenance is needed\n",
    "\n",
    "# Alternatively, we could create a binary target for \"needs maintenance soon\"\n",
    "merged_df['needs_maintenance'] = (merged_df['maintenance_score'] < 0.7).astype(int)\n",
    "\n",
    "# Display target distribution\n",
    "print(\"Maintenance score distribution:\")\n",
    "plt.figure(figsize=(10, 6))\n",
    "sns.histplot(merged_df['maintenance_score'], bins=20)\n",
    "plt.title('Distribution of Maintenance Scores')\n",
    "plt.xlabel('Maintenance Score')\n",
    "plt.ylabel('Count')\n",
    "plt.show()\n",
    "\n",
    "print(\"\\nNeeds maintenance distribution:\")\n",
    "print(merged_df['needs_maintenance'].value_counts())"
   ]
  },
  {
   "cell_type": "markdown",
   "metadata": {},
   "source": [
    "## 4. Feature Selection and Data Preparation"
   ]
  },
  {
   "cell_type": "code",
   "execution_count": null,
   "metadata": {},
   "source": [
    "# Select features for our model\n",
    "features = [\n",
    "    # Vehicle characteristics\n",
    "    'vehicle_age', 'capacity', 'total_trips', 'total_distance_travelled',
    "    'fuel_efficiency', 'maintenance_frequency', 'engine_hours',
    "    'idle_time_percentage', 'breakdown_frequency', 'operational_cost_per_mile',
    "    
    "    # Trip aggregates
    "    'trip_count', 'total_duration', 'total_fuel', 'total_distance',
    "    'avg_speed', 'max_speed_ever', 'total_idle_time',
    "    'maintenance_issues_count', 'incidents_count',
    "    
    "    # Engineered features
    "    'idle_percentage', 'avg_trip_distance', 'avg_trip_duration',
    "    'issues_per_distance', 'calculated_fuel_efficiency',
    "    'days_since_maintenance'
    "]

# Select only the columns that exist in our dataframe
features = [f for f in features if f in merged_df.columns]

# Create X (features) and y (target)
X = merged_df[features]
y = merged_df['maintenance_score']  # Regression task

# Split the data into training and testing sets
X_train, X_test, y_train, y_test = train_test_split(X, y, test_size=0.2, random_state=42)

print(f"Training set shape: {X_train.shape}")
print(f"Testing set shape: {X_test.shape}")

# Scale the features
scaler = StandardScaler()
X_train_scaled = scaler.fit_transform(X_train)
X_test_scaled = scaler.transform(X_test)

# Convert to DataFrame to keep column names
X_train_scaled_df = pd.DataFrame(X_train_scaled, columns=X_train.columns)
X_test_scaled_df = pd.DataFrame(X_test_scaled, columns=X_test.columns)

X_train_scaled_df.head()

